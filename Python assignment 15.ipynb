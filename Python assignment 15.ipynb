{
 "cells": [
  {
   "cell_type": "markdown",
   "id": "7ad0d115",
   "metadata": {},
   "source": [
    "## 1) How many seconds are in an hour? Use the interactive interpreter as a calculator and multiply the number of seconds in a minute (60) by the number of minutes in an hour (also 60).\n"
   ]
  },
  {
   "cell_type": "markdown",
   "id": "879fd8cf",
   "metadata": {},
   "source": [
    "To calculate the number of seconds in an hour, we can multiply the number of seconds in a minute (60) by the number of minutes in an hour (60) using the interactive interpreter as a calculator.\n",
    "\n",
    "Here's an example:\n",
    "\n",
    "seconds_in_minute = 60\n",
    "minutes_in_hour = 60\n",
    "seconds_in_hour = seconds_in_minute * minutes_in_hour\n",
    "print(seconds_in_hour)\n",
    "\n",
    "When we run the code, it will output:\n",
    "3600"
   ]
  },
  {
   "cell_type": "markdown",
   "id": "5959bfc3",
   "metadata": {},
   "source": [
    "## 2) Assign the result from the previous task (seconds in an hour) to a variable called seconds_per_hour."
   ]
  },
  {
   "cell_type": "markdown",
   "id": "3f79eb54",
   "metadata": {},
   "source": [
    "To assign the result from the previous task, which is the number of seconds in an hour (3600), to a variable called seconds_per_hour, we can use the following code:\n",
    "\n",
    "seconds_per_hour = 3600"
   ]
  },
  {
   "cell_type": "markdown",
   "id": "e2778a75",
   "metadata": {},
   "source": [
    "## 3) How many seconds do you think there are in a day? Make use of the variables seconds per hour and minutes per hour."
   ]
  },
  {
   "cell_type": "markdown",
   "id": "c9fb19c3",
   "metadata": {},
   "source": [
    "To calculate the number of seconds in a day, we can utilize the variables seconds_per_hour and minutes_per_hour. Since there are 24 hours in a day, we can multiply the number of seconds per hour by 24.\n",
    "\n",
    "Assuming we have already defined the variable seconds_per_hour as 3600, and the variable minutes_per_hour as 60, we can calculate the number of seconds in a day as follows:\n",
    "\n",
    "seconds_per_hour = 3600\n",
    "minutes_per_hour = 60\n",
    "seconds_per_day = seconds_per_hour * 24\n",
    "print(seconds_per_day)\n",
    "\n",
    "When we run the code, it will output:\n",
    "\n",
    "86400"
   ]
  },
  {
   "cell_type": "markdown",
   "id": "18dcd6f5",
   "metadata": {},
   "source": [
    "## 4) Calculate seconds per day again, but this time save the result in a variable called seconds_per_day"
   ]
  },
  {
   "cell_type": "markdown",
   "id": "1f6e8358",
   "metadata": {},
   "source": [
    "To calculate the number of seconds in a day and save the result in a variable called seconds_per_day, we can use the variables seconds_per_hour and minutes_per_hour. Since there are 24 hours in a day, we can multiply the number of seconds per hour by 24 and assign the result to the variable seconds_per_day.\n",
    "\n",
    "Assuming we have already defined the variable seconds_per_hour as 3600 and the variable minutes_per_hour as 60, we can calculate the number of seconds in a day as follows:\n",
    "\n",
    "seconds_per_hour = 3600\n",
    "minutes_per_hour = 60\n",
    "seconds_per_day = seconds_per_hour * 24\n",
    "\n",
    "After executing this code, the value 86,400 will be assigned to the variable seconds_per_day."
   ]
  },
  {
   "cell_type": "markdown",
   "id": "c7123ffb",
   "metadata": {},
   "source": [
    "## 5) Divide seconds_per_day by seconds_per_hour. Use floating-point (/) division."
   ]
  },
  {
   "cell_type": "markdown",
   "id": "fa16c1e2",
   "metadata": {},
   "source": [
    "To divide seconds_per_day by seconds_per_hour using floating-point division, we can use the / operator. Here's the code:\n",
    "\n",
    "seconds_per_hour = 3600\n",
    "seconds_per_day = seconds_per_hour * 24\n",
    "result = seconds_per_day / seconds_per_hour\n",
    "print(result)\n",
    "\n",
    "When we run the code, it will output:\n",
    "\n",
    "24.0"
   ]
  },
  {
   "cell_type": "markdown",
   "id": "be766863",
   "metadata": {},
   "source": [
    "## 6) Divide seconds_per_day by seconds_per_hour, using integer (//) division. Did this number agree with the floating-point value from the previous question, aside from the final .0?"
   ]
  },
  {
   "cell_type": "markdown",
   "id": "6c35f677",
   "metadata": {},
   "source": [
    "To divide seconds_per_day by seconds_per_hour using integer division (//), we can modify the code as follows:\n",
    "\n",
    "seconds_per_hour = 3600\n",
    "seconds_per_day = seconds_per_hour * 24\n",
    "result = seconds_per_day // seconds_per_hour\n",
    "print(result)\n",
    "\n",
    "When we run the code, it will output:\n",
    "\n",
    "24\n",
    "\n",
    "The result of dividing the total seconds in a day (86,400) by the number of seconds in an hour (3,600) using integer division is 24. This result matches the floating-point value obtained in the previous question, except for the absence of the .0 decimal part."
   ]
  },
  {
   "cell_type": "markdown",
   "id": "48a0d214",
   "metadata": {},
   "source": [
    "## 7) Write a generator, genPrimes, that returns the sequence of prime numbers on successive calls to its next() method: 2, 3, 5, 7, 11, ..."
   ]
  },
  {
   "cell_type": "markdown",
   "id": "f3400b59",
   "metadata": {},
   "source": [
    "Here's an implementation of the genPrimes generator that returns the sequence of prime numbers on successive calls to its next() method:\n",
    "\n",
    "def genPrimes():\n",
    "    primes = []  # List to store prime numbers\n",
    "\n",
    "    # Starting from the first prime number (2)\n",
    "    num = 2\n",
    "\n",
    "    while True:\n",
    "        is_prime = True\n",
    "\n",
    "        # Check if the number is divisible by any previously found prime numbers\n",
    "        for prime in primes:\n",
    "            if num % prime == 0:\n",
    "                is_prime = False\n",
    "                break\n",
    "\n",
    "        if is_prime:\n",
    "            primes.append(num)\n",
    "            yield num\n",
    "\n",
    "        num += 1\n",
    "        \n",
    "We can use the genPrimes generator to obtain the sequence of prime numbers as follows:\n",
    "\n",
    "prime_generator = genPrimes()\n",
    "\n",
    "#Call next() on the generator to get the next prime number\n",
    "print(next(prime_generator))  # Output: 2\n",
    "print(next(prime_generator))  # Output: 3\n",
    "print(next(prime_generator))  # Output: 5\n",
    "print(next(prime_generator))  # Output: 7\n",
    "print(next(prime_generator))  # Output: 11\n",
    "#...\n",
    "\n",
    "The genPrimes generator uses a list primes to store previously found prime numbers. It starts from the first prime number (2) and checks if each subsequent number is divisible by any of the previously found primes. If it is not divisible, the number is considered prime and added to the primes list, and it is yielded using the yield keyword."
   ]
  }
 ],
 "metadata": {
  "kernelspec": {
   "display_name": "Python 3 (ipykernel)",
   "language": "python",
   "name": "python3"
  },
  "language_info": {
   "codemirror_mode": {
    "name": "ipython",
    "version": 3
   },
   "file_extension": ".py",
   "mimetype": "text/x-python",
   "name": "python",
   "nbconvert_exporter": "python",
   "pygments_lexer": "ipython3",
   "version": "3.9.13"
  }
 },
 "nbformat": 4,
 "nbformat_minor": 5
}
